{
 "cells": [
  {
   "cell_type": "markdown",
   "id": "92ce45c7-14e5-41aa-bf98-a8ec0667c8b4",
   "metadata": {},
   "source": [
    "# EXPERIMENT 2 NUMERICAL PYTHON (NUMPY)"
   ]
  },
  {
   "cell_type": "markdown",
   "id": "bb426921-e980-4f6d-aebb-7eacae91c732",
   "metadata": {},
   "source": [
    "#### Carreos, Christian Benedict R."
   ]
  },
  {
   "cell_type": "markdown",
   "id": "467e8dfe-6a55-4fdd-a425-ab2b8c38c7e8",
   "metadata": {},
   "source": [
    "#### 2 ECE-C"
   ]
  },
  {
   "cell_type": "markdown",
   "id": "890ee796-8b3a-4c4a-b26b-b1373e508767",
   "metadata": {},
   "source": [
    "### NORMALIZATION PROBLEM: \n",
    "Normalization is one of the most basic preprocessing techniques in\n",
    "data analytics. This involves centering and scaling process. Centering means subtracting the data from the\n",
    "mean and scaling means dividing with its standard deviation. Mathematically, normalization can be\n",
    "expressed as:\n",
    "𝑍 = (𝑋 − 𝑥̅)/𝜎\n",
    "In Python, element-wise mean and element-wise standard deviation can be obtained by using .mean() and\n",
    ".std() calls.\n",
    "In this problem, create a random 5 x 5 ndarray and store it to variable X. Normalize X. Save your normalized\n",
    "ndarray as X_normalized.npy"
   ]
  },
  {
   "cell_type": "code",
   "execution_count": 110,
   "id": "25eac5c8-2a96-40fa-94e2-02357b02cfa5",
   "metadata": {},
   "outputs": [
    {
     "data": {
      "text/plain": [
       "array([[0.62805082, 0.67966442, 0.85469721, 0.75735638, 0.21063739],\n",
       "       [0.95097196, 0.61643055, 0.86843073, 0.24156058, 0.43497407],\n",
       "       [0.36990553, 0.1853921 , 0.30382644, 0.27763142, 0.81711123],\n",
       "       [0.07694509, 0.66767648, 0.43879162, 0.65286543, 0.46431462],\n",
       "       [0.636922  , 0.50658183, 0.57890029, 0.38681963, 0.82752994]])"
      ]
     },
     "execution_count": 110,
     "metadata": {},
     "output_type": "execute_result"
    }
   ],
   "source": [
    "import numpy as np\n",
    "\n",
    "# Create a random 5x5 ndarray and store in variable X\n",
    "X = np.random.rand(5, 5)\n",
    "X"
   ]
  },
  {
   "cell_type": "code",
   "execution_count": 112,
   "id": "bde95a01-f513-477b-89ac-48037181f3c9",
   "metadata": {},
   "outputs": [
    {
     "name": "stdout",
     "output_type": "stream",
     "text": [
      "Original 5x5 ndarray X:\n",
      " [[0.62805082 0.67966442 0.85469721 0.75735638 0.21063739]\n",
      " [0.95097196 0.61643055 0.86843073 0.24156058 0.43497407]\n",
      " [0.36990553 0.1853921  0.30382644 0.27763142 0.81711123]\n",
      " [0.07694509 0.66767648 0.43879162 0.65286543 0.46431462]\n",
      " [0.636922   0.50658183 0.57890029 0.38681963 0.82752994]]\n",
      "\n",
      "Normalized 5x5 ndarray X_normalized:\n",
      " [[ 0.38348419  0.60173002  1.3418484   0.93024703 -1.38153002]\n",
      " [ 1.74894193  0.3343484   1.39991997 -1.25077269 -0.4329323 ]\n",
      " [-0.70807174 -1.4882786  -0.98748426 -1.09824872  1.18291777]\n",
      " [-1.94684198  0.55103952 -0.41678995  0.48841167 -0.3088671 ]\n",
      " [ 0.42099559 -0.13014206  0.17565334 -0.63655121  1.2269728 ]]\n"
     ]
    }
   ],
   "source": [
    "# Normalize X (Subtract X to the mean and divide by the standard deviation)\n",
    "X_mean = X.mean()\n",
    "X_std = X.std()\n",
    "X_normalize = (X - X_mean) / X_std\n",
    "\n",
    "# Save the normalized ndarray as 'X_normalized.npy'\n",
    "np.save('X_normalized.npy', X_normalize)\n",
    "\n",
    "# Print both the 5x5 original ndarray and the normalized ndarray to compare\n",
    "print(\"Original 5x5 ndarray X:\\n\", X)\n",
    "print(\"\\nNormalized 5x5 ndarray X_normalized:\\n\", X_normalize)"
   ]
  },
  {
   "cell_type": "markdown",
   "id": "d1291202-a0dc-4551-b89f-be257114acdc",
   "metadata": {},
   "source": [
    "## DIVISIBLE BY 3 PROBLEM: Create the following 10 x 10 ndarray.\n",
    "which are the squares of the first 100 positive integers.\n",
    "From this ndarray, determine all the elements that are divisible by 3. Save the result as div_by_3.npy\n"
   ]
  },
  {
   "cell_type": "code",
   "execution_count": 114,
   "id": "509e53d4-8183-4ee4-ba41-f35e1f1288be",
   "metadata": {},
   "outputs": [
    {
     "name": "stdout",
     "output_type": "stream",
     "text": [
      "[[    1     4     9    16    25    36    49    64    81   100]\n",
      " [  121   144   169   196   225   256   289   324   361   400]\n",
      " [  441   484   529   576   625   676   729   784   841   900]\n",
      " [  961  1024  1089  1156  1225  1296  1369  1444  1521  1600]\n",
      " [ 1681  1764  1849  1936  2025  2116  2209  2304  2401  2500]\n",
      " [ 2601  2704  2809  2916  3025  3136  3249  3364  3481  3600]\n",
      " [ 3721  3844  3969  4096  4225  4356  4489  4624  4761  4900]\n",
      " [ 5041  5184  5329  5476  5625  5776  5929  6084  6241  6400]\n",
      " [ 6561  6724  6889  7056  7225  7396  7569  7744  7921  8100]\n",
      " [ 8281  8464  8649  8836  9025  9216  9409  9604  9801 10000]]\n"
     ]
    }
   ],
   "source": [
    "import numpy as np\n",
    "\n",
    "# Create a 10x10 ndarray with squares of the first 100 positive integers\n",
    "A = np.arange(1, 101)**2\n",
    "A = A.reshape((10, 10))\n",
    "print (A)"
   ]
  },
  {
   "cell_type": "code",
   "execution_count": 116,
   "id": "73e18897-b045-4a16-9cb9-c54bb9f49433",
   "metadata": {},
   "outputs": [
    {
     "name": "stdout",
     "output_type": "stream",
     "text": [
      "10x10 ndarray A (squares of first 100 integers):\n",
      " [[    1     4     9    16    25    36    49    64    81   100]\n",
      " [  121   144   169   196   225   256   289   324   361   400]\n",
      " [  441   484   529   576   625   676   729   784   841   900]\n",
      " [  961  1024  1089  1156  1225  1296  1369  1444  1521  1600]\n",
      " [ 1681  1764  1849  1936  2025  2116  2209  2304  2401  2500]\n",
      " [ 2601  2704  2809  2916  3025  3136  3249  3364  3481  3600]\n",
      " [ 3721  3844  3969  4096  4225  4356  4489  4624  4761  4900]\n",
      " [ 5041  5184  5329  5476  5625  5776  5929  6084  6241  6400]\n",
      " [ 6561  6724  6889  7056  7225  7396  7569  7744  7921  8100]\n",
      " [ 8281  8464  8649  8836  9025  9216  9409  9604  9801 10000]]\n",
      "\n",
      "Elements of A divisible by 3:\n",
      " [   9   36   81  144  225  324  441  576  729  900 1089 1296 1521 1764\n",
      " 2025 2304 2601 2916 3249 3600 3969 4356 4761 5184 5625 6084 6561 7056\n",
      " 7569 8100 8649 9216 9801]\n"
     ]
    }
   ],
   "source": [
    "# Determine all the elements in the ndarray that are divisible by 3\n",
    "divisibleby3 = A[A % 3 == 0]\n",
    "\n",
    "# Save the result as 'div_by_3.npy'\n",
    "np.save('div_by_3.npy', divisibleby3)\n",
    "\n",
    "# Print the original 10x10 ndArray and the array of the elements that are divisible by 3\n",
    "print(\"10x10 ndarray A (squares of first 100 integers):\\n\", A)\n",
    "print(\"\\nElements of A divisible by 3:\\n\", divisibleby3)"
   ]
  }
 ],
 "metadata": {
  "kernelspec": {
   "display_name": "Python 3 (ipykernel)",
   "language": "python",
   "name": "python3"
  },
  "language_info": {
   "codemirror_mode": {
    "name": "ipython",
    "version": 3
   },
   "file_extension": ".py",
   "mimetype": "text/x-python",
   "name": "python",
   "nbconvert_exporter": "python",
   "pygments_lexer": "ipython3",
   "version": "3.12.4"
  }
 },
 "nbformat": 4,
 "nbformat_minor": 5
}
